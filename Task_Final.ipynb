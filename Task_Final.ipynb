{
 "cells": [
  {
   "cell_type": "code",
   "execution_count": 1,
   "id": "4569287e",
   "metadata": {},
   "outputs": [
    {
     "name": "stdout",
     "output_type": "stream",
     "text": [
      "Requirement already satisfied: cvzone in c:\\users\\dell\\anaconda3\\envs\\character\\lib\\site-packages (1.3.7)\n",
      "Requirement already satisfied: opencv-python in c:\\users\\dell\\anaconda3\\envs\\character\\lib\\site-packages (from cvzone) (4.5.2.54)\n",
      "Requirement already satisfied: numpy in c:\\users\\dell\\anaconda3\\envs\\character\\lib\\site-packages (from cvzone) (1.20.3)\n"
     ]
    }
   ],
   "source": [
    "!pip install cvzone"
   ]
  },
  {
   "cell_type": "code",
   "execution_count": 1,
   "id": "4dc3517f",
   "metadata": {},
   "outputs": [],
   "source": [
    "import cv2\n",
    "import cvzone \n",
    "from cvzone.SelfiSegmentationModule import SelfiSegmentation\n",
    "import os\n"
   ]
  },
  {
   "cell_type": "markdown",
   "id": "1198a460",
   "metadata": {},
   "source": [
    "##I used cvzone module from mediapipe for better image segmentation "
   ]
  },
  {
   "cell_type": "markdown",
   "id": "46834175",
   "metadata": {},
   "source": [
    "# Background removal and background change\n"
   ]
  },
  {
   "cell_type": "markdown",
   "id": "d7d4af62",
   "metadata": {},
   "source": [
    "# Background removal with blue color"
   ]
  },
  {
   "cell_type": "code",
   "execution_count": 19,
   "id": "0fd7ed33",
   "metadata": {},
   "outputs": [],
   "source": [
    "\n",
    "img = cv2.imread('view1.jpeg')\n",
    "dim = (1000,667)\n",
    "# resize image because we have to change the background image. \n",
    "# So according to the background image dimension we have to resize it\n",
    "resized_img = cv2.resize(img, dim, interpolation = cv2.INTER_AREA)\n",
    "segmentor = SelfiSegmentation()\n",
    "\n",
    "while(1):\n",
    "    img_out= segmentor.removeBG(resized_img,(255,0,0),threshold=0.01)\n",
    "    cv2.imshow('image',img_out)\n",
    "    cv2.imwrite('back_removal.jpeg',img_out)\n",
    "    \n",
    "    \n",
    "    \n",
    "    \n",
    "    k =cv2.waitKey(5)\n",
    "    if k==27:\n",
    "        break\n",
    "    \n",
    "cv2.destroyAllWindows()\n",
    "    \n",
    "\n"
   ]
  },
  {
   "cell_type": "markdown",
   "id": "03ad79e9",
   "metadata": {},
   "source": [
    "# Remove background with another image"
   ]
  },
  {
   "cell_type": "code",
   "execution_count": 4,
   "id": "cb995328",
   "metadata": {},
   "outputs": [
    {
     "data": {
      "text/plain": [
       "True"
      ]
     },
     "execution_count": 4,
     "metadata": {},
     "output_type": "execute_result"
    }
   ],
   "source": [
    "img = cv2.imread('view2.jpeg')\n",
    "dim = (1000,668)\n",
    "# resize image because we have to change the background image. \n",
    "# So according to the background dimension we have resized it\n",
    "\n",
    "resize_img = cv2.resize(img, dim, interpolation = cv2.INTER_AREA)\n",
    "\n",
    "#SelfieSegmentation module just check if there is a color then it changes the background with a image\n",
    "#In our case we have created a blue background\n",
    "\n",
    "segmentor = SelfiSegmentation()\n",
    "#we will read the background images, I have downloaded some sample images from web\n",
    "img_bg = cv2.imread('background/back.jpg')\n",
    "\n",
    "\n",
    "img_out= segmentor.removeBG(resize_img,img_bg,threshold=0.01)\n",
    "cv2.imwrite('back_change.jpeg',img_out)\n",
    "    \n",
    "   # k =cv2.waitKey(5)\n",
    "   # if k==27:\n",
    "    #    break\n",
    "        \n"
   ]
  },
  {
   "cell_type": "code",
   "execution_count": null,
   "id": "2a8253bb",
   "metadata": {},
   "outputs": [],
   "source": []
  }
 ],
 "metadata": {
  "kernelspec": {
   "display_name": "Python 3",
   "language": "python",
   "name": "python3"
  },
  "language_info": {
   "codemirror_mode": {
    "name": "ipython",
    "version": 3
   },
   "file_extension": ".py",
   "mimetype": "text/x-python",
   "name": "python",
   "nbconvert_exporter": "python",
   "pygments_lexer": "ipython3",
   "version": "3.8.10"
  }
 },
 "nbformat": 4,
 "nbformat_minor": 5
}
